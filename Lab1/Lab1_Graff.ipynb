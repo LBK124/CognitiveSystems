{
 "cells": [
  {
   "cell_type": "markdown",
   "metadata": {},
   "source": [
    "# Kognitive Systeme - Lab 1"
   ]
  },
  {
   "cell_type": "markdown",
   "metadata": {},
   "source": [
    "Abgabetermin: Das fertig erstellte, dokumentierte und lauffähige Notebook schicken Sie bitte bis\n",
    "Sonntag, 1.11.2020 (23:59:59 MEZ) an norbert.oswald@unibw.de"
   ]
  },
  {
   "cell_type": "markdown",
   "metadata": {},
   "source": [
    "Das Ziel dieser Laborübung besteht darin, Informationen aus RDF Daten unterschiedlicher Quellen durch entsprechende SPARQL-Queries automatisch zu extrahieren. Initial ist die RDF-Datei `persons.n3`, die Personen, deren Alter, Interessen, Reiseziele sowie deren Adressen beschreibt, gegeben. Diese Datei soll zunächst in einen lokalen Triple-Store integriert werden. Als Triple-Store können Sie z.B. [GraphDB](https://graphdb.ontotext.com/) verwenden. Anschließend sollen Sie ein Python-Programm schreiben, dass die folgende Frage beantwortet: Welche der Städte, die in der RDF-Datei vorkommen, hat den bevölkerungsmäßig größten Vorort? Da nicht alle Informationen in der initialen RDF-Datei vorliegen, muss auf externe Informationsquellen zugegriffen werden. Als externe Datenquelle verwenden Sie für dieses Lab [WikiData](http://query.wikidata.org/sparql). Da stets verschiedene Namensräume verwendet werden, ist zu recherchieren, welche konkreten Properties für die gesuchten Informationen konkret benötigt werden. Falls Sie sich für WikiData entschieden haben gilt zu beachten: die Q-Werte für WikiData müssen für alle in der RDF-Datei beschriebenen Städte automatisch ermittelt werden! "
   ]
  },
  {
   "cell_type": "markdown",
   "metadata": {},
   "source": [
    "Falls Sie GraphDB verwenden wollen, laden Sie von der Webseite (https://graphdb.ontotext.com/) die freie Version herunter (diese erfordert Java 8) und installieren diese. Starten Sie dann den TripleStore durch Ausführen des Skripts `graphdb` im Verzeichnis `bin` der GraphDB Installation. Sie gelangen dann im Browser unter `localhost:7200` auf ihren lokalen GraphDB TripleStore. Erstellen und Aktivieren Sie zunächst ein Repository. Importieren Sie dann die Datei `persons.n3` mit den RDF-Daten in das erstellte Repository. Testen Sie das erfolgreiche Einladen der Datei, indem Sie in GraphDB die Option SPARQL auswählen, dort die nachfolgenden Zeilen hinein kopieren und und ausführen. "
   ]
  },
  {
   "cell_type": "raw",
   "metadata": {},
   "source": [
    "PREFIX foaf: <http://xmlns.com/foaf/0.1/>\n",
    "select ?person where { \n",
    "\t?person a foaf:Person .\n",
    "} limit 100 "
   ]
  },
  {
   "cell_type": "markdown",
   "metadata": {},
   "source": [
    "Das Importieren war erfolgreich, wenn Sie als Ausgabe alle Personen aus der RDF-Datei erhalten. "
   ]
  },
  {
   "cell_type": "markdown",
   "metadata": {},
   "source": [
    "#### Aufgabe 1"
   ]
  },
  {
   "cell_type": "markdown",
   "metadata": {},
   "source": [
    "Formulieren Sie eine SPARQL-Abfrage, mit der Sie den Wohnort jeder Person aus der RDF-Datei extrahieren können. Zum Testen der Query können Sie den GraphDB TripleStore verwenden. Erstellen Sie anschließend ein Python Programm, das automatisch die SPARQL-Abfrage ausführt und das Ergebnis der Abfrage ausgibt."
   ]
  },
  {
   "cell_type": "code",
   "execution_count": 4,
   "metadata": {},
   "outputs": [
    {
     "name": "stdout",
     "output_type": "stream",
     "text": [
      "{'head': {'vars': ['person']}, 'results': {'bindings': [{'person': {'type': 'bnode', 'value': 'node1'}}, {'person': {'type': 'bnode', 'value': 'node3'}}, {'person': {'type': 'bnode', 'value': 'node4'}}, {'person': {'type': 'bnode', 'value': 'node6'}}]}}\n"
     ]
    }
   ],
   "source": [
    "# Erstellen Sie hier Ihr Python Programm\n",
    "\n",
    "from SPARQLWrapper import SPARQLWrapper, JSON\n",
    "\n",
    "sparql = SPARQLWrapper(\"http://localhost:7200/repositories/persons\")\n",
    "\n",
    "query = \"\"\"\n",
    "PREFIX foaf: <http://xmlns.com/foaf/0.1/>\n",
    "PREFIX ex: <http://example.org/>\n",
    "select ?person where { \n",
    "\t?person a ex:Address .\n",
    "}\n",
    "\"\"\".strip()\n",
    "\n",
    "sparql.setQuery(query)\n",
    "sparql.setReturnFormat(JSON)\n",
    "\n",
    "result = sparql.query().convert()\n",
    "print(result)"
   ]
  },
  {
   "cell_type": "markdown",
   "metadata": {},
   "source": [
    "#### Aufgabe 2"
   ]
  },
  {
   "cell_type": "markdown",
   "metadata": {},
   "source": [
    "Nun sollen für jede Stadt die für WikiData benötigten Q-Codes ermittelt werden. Schreiben Sie ein Python-Programm, dass den Q-Code aller aufgeführten Städte ermittelt und ausgibt."
   ]
  },
  {
   "cell_type": "code",
   "execution_count": 3,
   "metadata": {},
   "outputs": [],
   "source": [
    "# Erstellen Sie hier Ihr Python Programm"
   ]
  },
  {
   "cell_type": "markdown",
   "metadata": {},
   "source": [
    "#### Aufgabe 3"
   ]
  },
  {
   "cell_type": "markdown",
   "metadata": {},
   "source": [
    "Nun sollen für jede Stadt die Stadtteile, ihre Fläche und deren Einwohnerzahl ermittelt werden. Finden Sie geeignete Properties, mit denen Sie Zugriff auf diese Informationen bekommen. Formulieren und testen Sie eine dafür geeignete SPARQL-Abfrage. Erstellen Sie anschließend in nachfolgender Zelle ein Python Programm, dass für jede Stadt deren Stadtteile, Fläche und Einwohnerzahl ausgibt.  "
   ]
  },
  {
   "cell_type": "code",
   "execution_count": 5,
   "metadata": {},
   "outputs": [],
   "source": [
    "# Erstellen Sie hier Ihr Python Programm"
   ]
  },
  {
   "cell_type": "markdown",
   "metadata": {},
   "source": [
    "#### Aufgabe 4"
   ]
  },
  {
   "cell_type": "markdown",
   "metadata": {},
   "source": [
    "Welcher Stadtteil hat die meisten Einwohner? Erstellen Sie ein Python Programm, dass den Namen des Stadtteils, seine Einwohnerzahl und die dazugehörige Stadt ausgibt."
   ]
  },
  {
   "cell_type": "code",
   "execution_count": 7,
   "metadata": {},
   "outputs": [],
   "source": [
    "# Erstellen Sie hier Ihr Python Programm"
   ]
  }
 ],
 "metadata": {
  "kernelspec": {
   "display_name": "Python 3",
   "language": "python",
   "name": "python3"
  },
  "language_info": {
   "codemirror_mode": {
    "name": "ipython",
    "version": 3
   },
   "file_extension": ".py",
   "mimetype": "text/x-python",
   "name": "python",
   "nbconvert_exporter": "python",
   "pygments_lexer": "ipython3",
   "version": "3.7.9"
  }
 },
 "nbformat": 4,
 "nbformat_minor": 4
}
