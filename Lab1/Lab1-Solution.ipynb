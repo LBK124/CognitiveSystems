{
 "cells": [
  {
   "cell_type": "markdown",
   "metadata": {},
   "source": [
    "# Kognitive Systeme - Lab 1"
   ]
  },
  {
   "cell_type": "markdown",
   "metadata": {},
   "source": [
    "Abgabetermin: Das fertig erstellte, dokumentierte und lauffähige Notebook schicken Sie bitte bis\n",
    "Sonntag, 1.11.2020 (23:59:59 MEZ) an norbert.oswald@unibw.de"
   ]
  },
  {
   "cell_type": "markdown",
   "metadata": {},
   "source": [
    "Das Ziel dieser Laborübung besteht darin, Informationen aus RDF Daten unterschiedlicher Quellen durch entsprechende SPARQL-Queries automatisch zu extrahieren. Initial ist die RDF-Datei `persons.n3`, die Personen, deren Alter, Interessen, Reiseziele sowie deren Adressen beschreibt, gegeben. Diese Datei soll zunächst in einen lokalen Triple-Store integriert werden. Als Triple-Store können Sie z.B. [GraphDB](https://graphdb.ontotext.com/) verwenden. Anschließend sollen Sie ein Python-Programm schreiben, dass die folgende Frage beantwortet: Welche der Städte, die in der RDF-Datei vorkommen, hat den bevölkerungsmäßig größten Vorort? Da nicht alle Informationen in der initialen RDF-Datei vorliegen, muss auf externe Informationsquellen zugegriffen werden. Als externe Datenquelle verwenden Sie für dieses Lab [WikiData](http://query.wikidata.org/sparql). Da stets verschiedene Namensräume verwendet werden, ist zu recherchieren, welche konkreten Properties für die gesuchten Informationen konkret benötigt werden. Falls Sie sich für WikiData entschieden haben gilt zu beachten: die Q-Werte für WikiData müssen für alle in der RDF-Datei beschriebenen Städte automatisch ermittelt werden! "
   ]
  },
  {
   "cell_type": "markdown",
   "metadata": {},
   "source": [
    "Falls Sie GraphDB verwenden wollen, laden Sie von der Webseite (https://graphdb.ontotext.com/) die freie Version herunter (diese erfordert Java 8) und installieren diese. Starten Sie dann den TripleStore durch Ausführen des Skripts `graphdb` im Verzeichnis `bin` der GraphDB Installation. Sie gelangen dann im Browser unter `localhost:7200` auf ihren lokalen GraphDB TripleStore. Erstellen und Aktivieren Sie zunächst ein Repository. Importieren Sie dann die Datei `persons.n3` mit den RDF-Daten in das erstellte Repository. Testen Sie das erfolgreiche Einladen der Datei, indem Sie in GraphDB die Option SPARQL auswählen, dort die nachfolgenden Zeilen hinein kopieren und und ausführen. "
   ]
  },
  {
   "cell_type": "raw",
   "metadata": {},
   "source": [
    "PREFIX foaf: <http://xmlns.com/foaf/0.1/>\n",
    "select ?person where { \n",
    "\t?person a foaf:Person .\n",
    "} limit 100 "
   ]
  },
  {
   "cell_type": "markdown",
   "metadata": {},
   "source": [
    "Das Importieren war erfolgreich, wenn Sie als Ausgabe alle Personen aus der RDF-Datei erhalten. "
   ]
  },
  {
   "cell_type": "markdown",
   "metadata": {},
   "source": [
    "#### Aufgabe 1"
   ]
  },
  {
   "cell_type": "markdown",
   "metadata": {},
   "source": [
    "Formulieren Sie eine SPARQL-Abfrage, mit der Sie den Wohnort jeder Person aus der RDF-Datei extrahieren können. Zum Testen der Query können Sie den GraphDB TripleStore verwenden. Erstellen Sie anschließend ein Python Programm, das automatisch die SPARQL-Abfrage ausführt und das Ergebnis der Abfrage ausgibt."
   ]
  },
  {
   "cell_type": "code",
   "execution_count": 1,
   "metadata": {},
   "outputs": [
    {
     "name": "stdout",
     "output_type": "stream",
     "text": [
      "{'head': {'vars': ['person', 'name', 'city']}, 'results': {'bindings': [{'city': {'type': 'uri', 'value': 'http://example.org/Madrid'}, 'person': {'type': 'uri', 'value': 'http://example.org/Emma'}, 'name': {'type': 'literal', 'value': 'Emma_Dominguez'}}, {'city': {'type': 'uri', 'value': 'http://example.org/Paris'}, 'person': {'type': 'uri', 'value': 'http://example.org/Pierre'}}, {'city': {'type': 'uri', 'value': 'http://example.org/Rome'}, 'person': {'type': 'uri', 'value': 'http://example.org/Carlo'}, 'name': {'type': 'literal', 'value': 'Carlo_Conte'}}, {'city': {'type': 'uri', 'value': 'http://example.org/Munich'}, 'person': {'type': 'uri', 'value': 'http://example.org/Max'}, 'name': {'type': 'literal', 'value': 'Max_Meier'}}]}}\n",
      "\n",
      "['Madrid', 'Paris', 'Rome', 'Munich']\n"
     ]
    }
   ],
   "source": [
    "# Erstellen Sie hier Ihr Python Programm\n",
    "\n",
    "from SPARQLWrapper import SPARQLWrapper, JSON\n",
    "\n",
    "# optional display person and person name\n",
    "# http://localhost:7200/sparql\n",
    "query = \"\"\"\n",
    "PREFIX foaf: <http://xmlns.com/foaf/0.1/>\n",
    "PREFIX ex: <http://example.org/>\n",
    "SELECT ?person ?name ?city WHERE { \n",
    "\t?person a foaf:Person ;\n",
    "        ex:address ?address .\n",
    "    ?address ex:city ?city .\n",
    "    OPTIONAL {?person foaf:name ?name} .\n",
    "}\n",
    "\"\"\".strip()\n",
    "\n",
    "sparql = SPARQLWrapper(\"http://localhost:7200/repositories/persons\")\n",
    "sparql.setQuery(query)\n",
    "sparql.setReturnFormat(JSON)\n",
    "\n",
    "result = sparql.queryAndConvert()\n",
    "print(result)\n",
    "print()\n",
    "\n",
    "## parsing the converted output from json\n",
    "results = result.get(\"results\", {}).get(\"bindings\", [])\n",
    "# list cities values\n",
    "results = map(lambda result: result.get(\"city\", {}), results)\n",
    "results = map(lambda result: result.get(\"value\", \"\"), results)\n",
    "# remove namespace\n",
    "results = map(lambda result: result.rsplit(\"/\", 1), results)\n",
    "results = map(lambda result: result[-1], results)\n",
    "\n",
    "cities = list(results)\n",
    "print(cities)"
   ]
  },
  {
   "cell_type": "markdown",
   "metadata": {},
   "source": [
    "#### Aufgabe 2"
   ]
  },
  {
   "cell_type": "markdown",
   "metadata": {},
   "source": [
    "Nun sollen für jede Stadt die für WikiData benötigten Q-Codes ermittelt werden. Schreiben Sie ein Python-Programm, dass den Q-Code aller aufgeführten Städte ermittelt und ausgibt."
   ]
  },
  {
   "cell_type": "code",
   "execution_count": 2,
   "metadata": {},
   "outputs": [
    {
     "name": "stdout",
     "output_type": "stream",
     "text": [
      "{'Madrid': 'Q2807', 'Paris': 'Q90', 'Rome': 'Q220', 'Munich': 'Q1726'}\n"
     ]
    }
   ],
   "source": [
    "# Erstellen Sie hier Ihr Python Programm\n",
    "\n",
    "# TODO: copy \"user-config.py\" to pywikibot root directory\n",
    "import pywikibot\n",
    "\n",
    "city2q = dict()\n",
    "\n",
    "site = pywikibot.Site(\"en\", \"wikipedia\")\n",
    "\n",
    "for city in cities:\n",
    "    \n",
    "    page = pywikibot.Page(site, city)\n",
    "    item = pywikibot.ItemPage.fromPage(page)\n",
    "    \n",
    "    city2q[city] = item.title()\n",
    "    \n",
    "print(city2q)"
   ]
  },
  {
   "cell_type": "markdown",
   "metadata": {},
   "source": [
    "#### Aufgabe 3"
   ]
  },
  {
   "cell_type": "markdown",
   "metadata": {},
   "source": [
    "Nun sollen für jede Stadt die Stadtteile, ihre Fläche und deren Einwohnerzahl ermittelt werden. Finden Sie geeignete Properties, mit denen Sie Zugriff auf diese Informationen bekommen. Formulieren und testen Sie eine dafür geeignete SPARQL-Abfrage. Erstellen Sie anschließend in nachfolgender Zelle ein Python Programm, dass für jede Stadt deren Stadtteile, Fläche und Einwohnerzahl ausgibt.  "
   ]
  },
  {
   "cell_type": "code",
   "execution_count": 3,
   "metadata": {},
   "outputs": [
    {
     "name": "stdout",
     "output_type": "stream",
     "text": [
      "    Name                                                            Fläche in km²  Bevölkerung\n",
      "\n",
      "\u001b[1m*** Stadtteile von Madrid\u001b[0m\n",
      "\n",
      "  1 Villaverde                                                             20.188      149,003\n",
      "  2 Villa de Vallecas                                                      51.467      107,649\n",
      "  3 Vicálvaro                                                              35.267       74,567\n",
      "  4 Usera                                                                   7.778      134,791\n",
      "  5 Retiro                                                                  5.466      118,516\n",
      "  6 Puente de Vallecas                                                     14.969      227,595\n",
      "  7 Moratalaz                                                               6.344       94,197\n",
      "  8 Moncloa-Aravaca                                                        46.531      116,903\n",
      "  9 Latina                                                                 25.427      233,808\n",
      " 10 Hortaleza                                                              27.420      180,462\n",
      " 11 Fuencarral-El Pardo                                                   237.838      238,756\n",
      " 12 Ciudad Lineal                                                          11.426      212,529\n",
      " 13 Chamberí                                                                4.679      137,401\n",
      " 14 Centro                                                                  5.228      131,928\n",
      " 15 Castellana                                                              0.773       16,922\n",
      " 16 Carabanchel                                                            14.048      243,998\n",
      " 17 Arganzuela                                                              6.462      151,965\n",
      "\n",
      "\u001b[1m*** Stadtteile von Paris\u001b[0m\n",
      "\n",
      "  1 municipality of Paris                                                   0.000            0\n",
      "  2 9th arrondissement of Paris                                             2.180       59,555\n",
      "  3 8th arrondissement of Paris                                             3.880       36,808\n",
      "  4 7th arrondissement of Paris                                             4.090       51,367\n",
      "  5 6th arrondissement of Paris                                             2.150       41,100\n",
      "  6 5th arrondissement of Paris                                             2.540       58,850\n",
      "  7 4th arrondissement of Paris                                             1.600       28,088\n",
      "  8 3rd arrondissement of Paris                                             1.170       34,115\n",
      "  9 2nd arrondissement of Paris                                             0.990       20,900\n",
      " 10 20th arrondissement of Paris                                            5.980      195,814\n",
      " 11 1st arrondissement of Paris                                             1.830       16,266\n",
      " 12 19th arrondissement of Paris                                            6.790      187,015\n",
      " 13 18th arrondissement of Paris                                            6.010      195,233\n",
      " 14 17th arrondissement of Paris                                            5.670      167,288\n",
      " 15 16th arrondissement of Paris                                            7.910      166,361\n",
      " 16 15th arrondissement of Paris                                            8.500      233,392\n",
      " 17 14th arrondissement of Paris                                            5.620      135,964\n",
      " 18 13th arrondissement of Paris                                            7.150      182,099\n",
      " 19 12th arrondissement of Paris                                            6.380      140,296\n",
      " 20 11th arrondissement of Paris                                            3.670      146,643\n",
      " 21 10th arrondissement of Paris                                            2.890       90,372\n",
      "\n",
      "\u001b[1m*** Stadtteile von Rome\u001b[0m\n",
      "\n",
      "  1 Municipio XV                                                          187.310      160,502\n",
      "  2 Municipio XIV                                                         133.550      191,851\n",
      "  3 Municipio XIII                                                         66.930      133,388\n",
      "  4 Municipio XII                                                          73.070      140,719\n",
      "  5 Municipio XI                                                           71.480      154,974\n",
      "  6 Municipio XI                                                           71.840      154,974\n",
      "  7 Municipio X                                                           150.740      231,220\n",
      "  8 Municipio VIII                                                         47.150      130,089\n",
      "  9 Municipio VII                                                          45.840      305,003\n",
      " 10 Municipio VI                                                          113.880      256,878\n",
      " 11 Municipio V                                                            26.920      243,607\n",
      " 12 Municipio IX                                                          183.310      183,476\n",
      " 13 Municipio IV                                                           48.940      174,638\n",
      " 14 Municipio III                                                          98.030      205,759\n",
      " 15 Municipio II                                                            0.000            0\n",
      " 16 Municipio I                                                            20.090      167,330\n",
      "\n",
      "\u001b[1m*** Stadtteile von Munich\u001b[0m\n",
      "\n",
      "  1 Untergiesing-Harlaching                                                 8.060       54,050\n",
      "  2 Trudering-Riem                                                         22.450       72,182\n",
      "  3 Thalkirchen-Obersendling-Forstenried-Fürstenried-Solln                 17.770       96,199\n",
      "  4 Sendling-Westpark                                                       7.800       59,175\n",
      "  5 Sendling                                                                3.939       41,230\n",
      "  6 Schwanthalerhöhe                                                        2.070       30,282\n",
      "  7 Schwabing-West                                                          4.340       69,407\n",
      "  8 Schwabing-Freimann                                                     25.672       77,626\n",
      "  9 Ramersdorf-Perlach                                                     19.880      114,708\n",
      " 10 Pasing-Obermenzing                                                     16.500       74,645\n",
      " 11 Obergiesing-Fasangarten                                                 5.720       54,784\n",
      " 12 Neuhausen-Nymphenburg                                                  12.930       99,821\n",
      " 13 Moosach                                                                11.100       54,045\n",
      " 14 Milbertshofen-Am Hart                                                  13.420       76,647\n",
      " 15 Maxvorstadt                                                             4.300       53,443\n",
      " 16 Ludwigsvorstadt-Isarvorstadt                                            4.401       54,915\n",
      " 17 Laim                                                                    5.280       56,335\n",
      " 18 Hadern                                                                  9.220       50,567\n",
      " 19 Feldmoching-Hasenbergl                                                 28.938       61,764\n",
      " 20 Bogenhausen                                                            23.690       87,164\n",
      " 21 Berg am Laim                                                            6.315       45,655\n",
      " 22 Aubing-Lochhausen-Langwied                                              3.420       46,468\n",
      " 23 Au-Haidhausen                                                           4.240       61,699\n",
      " 24 Altstadt-Lehel                                                          3.140       21,454\n",
      " 25 Allach-Untermenzing                                                    15.380       34,263\n",
      "\n"
     ]
    }
   ],
   "source": [
    "# Erstellen Sie hier Ihr Python Programm\n",
    "\n",
    "import requests\n",
    "\n",
    "url = \"https://query.wikidata.org/sparql\"\n",
    "\n",
    "# table header\n",
    "print(\"    {:63} {:14} {:10}\\n\".format(\"Name\", \"Fläche in km²\", \"Bevölkerung\"))\n",
    "\n",
    "city2suburbs = list()\n",
    "\n",
    "for city, q in city2q.items():\n",
    "    \n",
    "    print(\"{}*** Stadtteile von {}{}\\n\".format('\\033[1m', city, '\\033[0m'))\n",
    "\n",
    "    # https://query.wikidata.org/\n",
    "    # search property numbers by hovering hyperlinks\n",
    "    # https://www.wikidata.org/wiki/Q2807\n",
    "    query = \"\"\"\n",
    "    SELECT * WHERE {{\n",
    "        wd:{} wdt:P150 ?suburbs .  \n",
    "        ?suburbs rdfs:label ?name .\n",
    "        OPTIONAL {{\n",
    "            ?suburbs wdt:P2046 ?area ;  \n",
    "                     wdt:P1082 ?population .\n",
    "        }}\n",
    "        FILTER(lang(?name)=\"en\")  \n",
    "        SERVICE wikibase:label {{\n",
    "            bd:serviceParam wikibase:language \"en\" . \n",
    "        }}\n",
    "    }}\n",
    "    \"\"\".format(q)\n",
    "\n",
    "    response = requests.get(url, params={\"format\": \"json\", \"query\": query})   \n",
    "    # if status code != 200\n",
    "    response.raise_for_status()    \n",
    "    # get response json\n",
    "    response = response.json()\n",
    "    \n",
    "    # get response results - bindings\n",
    "    results = response.get(\"results\", {}).get(\"bindings\", [])\n",
    "    # filter suburbs, area, population\n",
    "    results = list(map(lambda result: (\n",
    "        city,\n",
    "        result.get(\"suburbs\", {}).get(\"value\", \"\"),\n",
    "        result.get(\"name\", {}).get(\"value\", \"\"),\n",
    "        float(result.get(\"area\", {}).get(\"value\", 0.0)),\n",
    "        int(result.get(\"population\", {}).get(\"value\", 0))\n",
    "    ), results))\n",
    "    \n",
    "    \n",
    "    # sort by suburb area, change result[x] to sort by a different attribute\n",
    "    results.sort(key=lambda result: result[2], reverse=True)\n",
    "        \n",
    "    city2suburbs.append(results)\n",
    "    \n",
    "    for index, (_, suburbs, name, area, population) in enumerate(results, 1):\n",
    "        print(\"{:3} {:56} {:20.3f} {:12,}\".format(index, name, area, population))\n",
    "        \n",
    "    print()     "
   ]
  },
  {
   "cell_type": "markdown",
   "metadata": {},
   "source": [
    "#### Aufgabe 4"
   ]
  },
  {
   "cell_type": "markdown",
   "metadata": {},
   "source": [
    "Welcher Stadtteil hat die meisten Einwohner? Erstellen Sie ein Python Programm, dass den Namen des Stadtteils, seine Einwohnerzahl und die dazugehörige Stadt ausgibt."
   ]
  },
  {
   "cell_type": "code",
   "execution_count": 4,
   "metadata": {
    "scrolled": true
   },
   "outputs": [
    {
     "name": "stdout",
     "output_type": "stream",
     "text": [
      "«Municipio VII» in «Rome» has the biggest suburb population with «305,003» inhabitants.\n"
     ]
    }
   ],
   "source": [
    "# Erstellen Sie hier Ihr Python Programm\n",
    "\n",
    "import itertools \n",
    "\n",
    "# concat all city2suburbs results\n",
    "results = itertools.chain(*city2suburbs)\n",
    "results = list(results)\n",
    "\n",
    "# sort by suburb population\n",
    "results.sort(key=lambda result: result[4], reverse=True)\n",
    "\n",
    "# pick first result tuple\n",
    "city, _, suburb, area, population = results[0]\n",
    "\n",
    "print(\"«{}» in «{}» has the biggest suburb population with «{:,}» inhabitants.\".format(suburb, city, population))\n",
    "\n",
    "# for results in city2suburbs:\n",
    "#     \n",
    "#     # sort by suburb population\n",
    "#     results.sort(key=lambda result: result[4], reverse=True)\n",
    "#    \n",
    "#     for city, _, suburb, area, population in results:\n",
    "#         \n",
    "#         print(\"«{}» in «{}» has the biggest suburb population with «{}» inhabitants.\".format(suburb, city, population))\n",
    "#         break"
   ]
  },
  {
   "cell_type": "code",
   "execution_count": null,
   "metadata": {},
   "outputs": [],
   "source": []
  }
 ],
 "metadata": {
  "kernelspec": {
   "display_name": "Python 3",
   "language": "python",
   "name": "python3"
  },
  "language_info": {
   "codemirror_mode": {
    "name": "ipython",
    "version": 3
   },
   "file_extension": ".py",
   "mimetype": "text/x-python",
   "name": "python",
   "nbconvert_exporter": "python",
   "pygments_lexer": "ipython3",
   "version": "3.8.6"
  }
 },
 "nbformat": 4,
 "nbformat_minor": 4
}
