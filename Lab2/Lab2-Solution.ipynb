{
 "cells": [
  {
   "cell_type": "markdown",
   "metadata": {},
   "source": [
    "# Kognitive Systeme - Lab 2"
   ]
  },
  {
   "cell_type": "markdown",
   "metadata": {},
   "source": [
    "In dieser Laborübung geht es darum, das Prinzip des Q-Learnings an Hand eines praktischen Beispiels zu vertiefen. Als Grundlage dafür dient das Taxi-Problem aus OpenAI (https://gym.openai.com/). Das fertig erstellte, dokumentierte und lauffähige Notebook schicken Sie bis Donnerstag, 26.11.2020 (23:59:59 MEZ) an norbert.oswald@unibw.de"
   ]
  },
  {
   "cell_type": "markdown",
   "metadata": {},
   "source": [
    "Ein autonom fahrendes Taxi sammelt einen Passagier an einem Startort ein\n",
    "und fährt ihn zu seinem Zielort. Dafür sind folgende Aktivitäten erforderlich:\n",
    "* Identifikation des Startortes, die Fahrt dorthin sowie das Einladen des Passagiers\n",
    "* Identifikation des Zielortes, die Fahrt dorthin sowie das Ausladen des Passagiers\n",
    "\n",
    "Beide Aktivitäten sollen schnellstmöglich durchgeführt werden. Die Simulationsumgebung liefert folgende Informationen:\n",
    "\n",
    "* 25 mögliche Positionen für das Taxi\n",
    "* ein Taxi ohne Passagier ist gelb/rot, sonst grün\n",
    "* 4 mögliche fixe Start- oder Zielorte R,G,B oder Y\n",
    "* konkreter Startort ist blau, Zielort ist pink\n",
    "* 5 Positionen, an denen sich ein Passagier befinden kann"
   ]
  },
  {
   "cell_type": "markdown",
   "metadata": {},
   "source": [
    "Für den Taxi-Agenten sollen 3 verschiedene Verhaltensweisen realisiert werden. In der ersten Aufgabe agiert der Taxi-Agent rein zufällig, in der zweiten Aufgabe basieren seine Entscheidungen auf dem Prinzip des Q-Learning und in der dritten Aufgabe verwendet der Agent das SARSA Lernverfahren. Für alle drei Aufgabe sind kleine Sourcecode-Fragemente vorgegeben. Ergänzen Sie diese an den angegebenen Stellen mit Ihrer Implementierung und überprüfen Sie das gewünschte Verhalten. Dokumentieren Sie für alle 3 Verfahren jeweils Ihre Vorgehensweise. "
   ]
  },
  {
   "cell_type": "code",
   "execution_count": 1,
   "metadata": {},
   "outputs": [],
   "source": [
    "import gym\n",
    "import random\n",
    "\n",
    "env = gym.make('Taxi-v3').env"
   ]
  },
  {
   "cell_type": "markdown",
   "metadata": {},
   "source": [
    "## Aufgabe 1"
   ]
  },
  {
   "cell_type": "markdown",
   "metadata": {},
   "source": [
    "Schreiben Sie eine Python-Anwendung für einen Taxiagenten, der seine Aktionen zufällig auswählt. Geben Sie an, welche Belohnung Sie erhalten und nach wievielen Schritten eine Lösung gefunden wurde."
   ]
  },
  {
   "cell_type": "code",
   "execution_count": 11,
   "metadata": {},
   "outputs": [],
   "source": [
    "def execute():\n",
    "    print (\"Ausführungsphase\")\n",
    "    #\n",
    "    # An dieser Stelle soll Ihre Implementierung des \n",
    "    # zufällig agierenden Taxiagenten stehen  \n",
    "    #\n",
    "    env.reset()\n",
    "    done = False\n",
    "    steps = 0\n",
    "    score = 0\n",
    "\n",
    "    while(not done):\n",
    "        action = random.randint(0, 5)\n",
    "        #action = env.action_space.sample()  \n",
    "        next_state, reward, done, info = env.step(action)\n",
    "\n",
    "        score += reward\n",
    "        steps += 1\n",
    "\n",
    "    print(f\"Steps: {steps}, Reward: {score}\")"
   ]
  },
  {
   "cell_type": "markdown",
   "metadata": {},
   "source": [
    "Testen Sie das Verhalten Ihrer Implementierung, indem Sie die nachfolgende Zelle ausführen. Mit *env.render()* wird der aktuelle Zustand visualisiert."
   ]
  },
  {
   "cell_type": "code",
   "execution_count": 12,
   "metadata": {
    "scrolled": true
   },
   "outputs": [
    {
     "output_type": "stream",
     "name": "stdout",
     "text": [
      "Ausführungsphase\nSteps: 2165, Reward: -8543\n+---------+\n|\u001b[35m\u001b[34;1m\u001b[43mR\u001b[0m\u001b[0m\u001b[0m: | : :G|\n| : | : : |\n| : : : : |\n| | : | : |\n|Y| : |B: |\n+---------+\n  (Dropoff)\n"
     ]
    }
   ],
   "source": [
    "execute()\n",
    "env.render()"
   ]
  },
  {
   "cell_type": "markdown",
   "metadata": {},
   "source": [
    "## Aufgabe 2"
   ]
  },
  {
   "cell_type": "markdown",
   "metadata": {},
   "source": [
    "Das Verhalten des Taxi-Agenten soll nun so geändert werden, dass die von ihm vorgeschlagenenen Aktionen gemäß dem Q-Learning Algorithmus ermittelt wurden. "
   ]
  },
  {
   "cell_type": "markdown",
   "metadata": {},
   "source": [
    "Um Q-Learning anwenden zu können ist zunächst eine Lernphase notwendig. Ergänzen Sie zu diesem Zweck die nachfolgende Methode *learn()* in geeigneter Art und Weise. Die Übergabeparameter dürfen bei Bedarf angepasst werden."
   ]
  },
  {
   "cell_type": "code",
   "execution_count": 8,
   "metadata": {},
   "outputs": [
    {
     "output_type": "stream",
     "name": "stdout",
     "text": [
      "Lernphase mit Q-Learning\n(5, 5, 6)\n"
     ]
    }
   ],
   "source": [
    "import numpy\n",
    "\n",
    "def learn(episodes: int = 2000):\n",
    "    print (\"Lernphase mit Q-Learning\")\n",
    "    #\n",
    "    # An dieser Stelle soll Ihre Implementierung des \n",
    "    # Lernvorgangs für Q-Learning stehen  \n",
    "    # \n",
    "\n",
    "    Q = numpy.zeros((5, 5, 6), dtype=float)\n",
    "    print(Q.shape)\n",
    "\n",
    "    alpha = 0.05\n",
    "    gamma = 0.9\n",
    "\n",
    "    for episode in range(episodes):\n",
    "\n",
    "        state = env.reset()\n",
    "        done = False\n",
    "\n",
    "        while(not done):\n",
    "\n",
    "            best_action = np.argmax(Q[state, :])\n",
    "            # random action wählen \n",
    "\n",
    "            next_state, reward, done, info = env.step()\n",
    "\n",
    "            best_future_action = numpy.argmax(Q[state_next, :])\n",
    "            Q[state, action] = (1 - alpha) * Q[state, action] + alpha * (reward + gamma * best_future_action)\n",
    "\n",
    "            state = next_state\n",
    "\n",
    "learn()\n"
   ]
  },
  {
   "cell_type": "markdown",
   "metadata": {},
   "source": [
    "Damit der Taxi-Agent von dem gelernten profitieren kann, ist eine entsprechende Ausführungsmethode zu programmieren. Ergänzen Sie zu diesem Zweck die nachfolgende Methode *execute()*. Die Übergabeparameter dürfen bei Bedarf angepasst werden. "
   ]
  },
  {
   "cell_type": "code",
   "execution_count": null,
   "metadata": {},
   "outputs": [],
   "source": [
    "def execute():\n",
    "    print (\"Ausführungsphase mit Q-Learning\")\n",
    "    #\n",
    "    # An dieser Stelle soll Ihre Implementierung der \n",
    "    # Aktionsausführung des Taxi-Agenten gemäß Q-Learning stehen  \n",
    "    # "
   ]
  },
  {
   "cell_type": "markdown",
   "metadata": {},
   "source": [
    "Testen Sie das Verhalten Ihrer Implementierung, indem Sie z.B. die nachfolgende Zelle ausführen. Geben Sie an, welche Belohnung Sie erhalten und nach wievielen Schritten eine Lösung gefunden wurde."
   ]
  },
  {
   "cell_type": "code",
   "execution_count": null,
   "metadata": {},
   "outputs": [],
   "source": [
    "learn()\n",
    "execute()"
   ]
  },
  {
   "cell_type": "markdown",
   "metadata": {},
   "source": [
    "## Aufgabe 3"
   ]
  },
  {
   "cell_type": "markdown",
   "metadata": {},
   "source": [
    "Nun soll das Verhalten des Taxi-Agenten mit dem SARSA Algorithmus implementiert werden. Vergleichen und Interpretieren Sie die Ergebnisse, die Sie mit Q-Learning und mit SARSA erhalten.\n"
   ]
  },
  {
   "cell_type": "code",
   "execution_count": null,
   "metadata": {},
   "outputs": [],
   "source": [
    "def learn():\n",
    "    print (\"Lernphase mit SARSA\")\n",
    "    #\n",
    "    # An dieser Stelle soll Ihre Implementierung des \n",
    "    # Lernvorgangs für SARSA stehen  \n",
    "    # "
   ]
  },
  {
   "cell_type": "code",
   "execution_count": null,
   "metadata": {},
   "outputs": [],
   "source": [
    "def execute():\n",
    "    print (\"Ausführungsphase mit SARSA\")\n",
    "    #\n",
    "    # An dieser Stelle soll Ihre Implementierung der \n",
    "    # Aktionsausführung des Taxi-Agenten gemäß SARSA stehen  \n",
    "    # "
   ]
  },
  {
   "cell_type": "code",
   "execution_count": null,
   "metadata": {},
   "outputs": [],
   "source": [
    "learn()\n",
    "execute()"
   ]
  },
  {
   "cell_type": "markdown",
   "metadata": {},
   "source": [
    " "
   ]
  }
 ],
 "metadata": {
  "kernelspec": {
   "display_name": "Python 3",
   "language": "python",
   "name": "python3"
  }
 },
 "nbformat": 4,
 "nbformat_minor": 2
}