{
 "cells": [
  {
   "cell_type": "markdown",
   "metadata": {},
   "source": [
    "# Kognitive Systeme - Lab 1"
   ]
  },
  {
   "cell_type": "markdown",
   "metadata": {},
   "source": [
    "Abgabetermin: Das fertig erstellte, dokumentierte und lauffähige Notebook schicken Sie bitte bis\n",
    "Sonntag, 1.11.2020 (23:59:59 MEZ) an norbert.oswald@unibw.de"
   ]
  },
  {
   "cell_type": "markdown",
   "metadata": {},
   "source": [
    "Das Ziel dieser Laborübung besteht darin, Informationen aus RDF Daten unterschiedlicher Quellen durch entsprechende SPARQL-Queries automatisch zu extrahieren. Initial ist die RDF-Datei `persons.n3`, die Personen, deren Alter, Interessen, Reiseziele sowie deren Adressen beschreibt, gegeben. Diese Datei soll zunächst in einen lokalen Triple-Store integriert werden. Als Triple-Store können Sie z.B. [GraphDB](https://graphdb.ontotext.com/) verwenden. Anschließend sollen Sie ein Python-Programm schreiben, dass die folgende Frage beantwortet: Welche der Städte, die in der RDF-Datei vorkommen, hat den bevölkerungsmäßig größten Vorort? Da nicht alle Informationen in der initialen RDF-Datei vorliegen, muss auf externe Informationsquellen zugegriffen werden. Als externe Datenquelle verwenden Sie für dieses Lab [WikiData](http://query.wikidata.org/sparql). Da stets verschiedene Namensräume verwendet werden, ist zu recherchieren, welche konkreten Properties für die gesuchten Informationen konkret benötigt werden. Falls Sie sich für WikiData entschieden haben gilt zu beachten: die Q-Werte für WikiData müssen für alle in der RDF-Datei beschriebenen Städte automatisch ermittelt werden! "
   ]
  },
  {
   "cell_type": "markdown",
   "metadata": {},
   "source": [
    "Falls Sie GraphDB verwenden wollen, laden Sie von der Webseite (https://graphdb.ontotext.com/) die freie Version herunter (diese erfordert Java 8) und installieren diese. Starten Sie dann den TripleStore durch Ausführen des Skripts `graphdb` im Verzeichnis `bin` der GraphDB Installation. Sie gelangen dann im Browser unter `localhost:7200` auf ihren lokalen GraphDB TripleStore. Erstellen und Aktivieren Sie zunächst ein Repository. Importieren Sie dann die Datei `persons.n3` mit den RDF-Daten in das erstellte Repository. Testen Sie das erfolgreiche Einladen der Datei, indem Sie in GraphDB die Option SPARQL auswählen, dort die nachfolgenden Zeilen hinein kopieren und und ausführen. "
   ]
  },
  {
   "cell_type": "raw",
   "metadata": {},
   "source": [
    "PREFIX foaf: <http://xmlns.com/foaf/0.1/>\n",
    "select ?person where { \n",
    "\t?person a foaf:Person .\n",
    "} limit 100 "
   ]
  },
  {
   "cell_type": "markdown",
   "metadata": {},
   "source": [
    "Das Importieren war erfolgreich, wenn Sie als Ausgabe alle Personen aus der RDF-Datei erhalten. "
   ]
  },
  {
   "cell_type": "markdown",
   "metadata": {},
   "source": [
    "#### Aufgabe 1"
   ]
  },
  {
   "cell_type": "markdown",
   "metadata": {},
   "source": [
    "Formulieren Sie eine SPARQL-Abfrage, mit der Sie den Wohnort jeder Person aus der RDF-Datei extrahieren können. Zum Testen der Query können Sie den GraphDB TripleStore verwenden. Erstellen Sie anschließend ein Python Programm, das automatisch die SPARQL-Abfrage ausführt und das Ergebnis der Abfrage ausgibt."
   ]
  },
  {
   "cell_type": "code",
   "execution_count": 1,
   "metadata": {},
   "outputs": [
    {
     "name": "stdout",
     "output_type": "stream",
     "text": [
      "{'head': {'vars': ['person', 'name', 'city']}, 'results': {'bindings': [{'city': {'type': 'uri', 'value': 'http://example.org/Madrid'}, 'person': {'type': 'uri', 'value': 'http://example.org/Emma'}, 'name': {'type': 'literal', 'value': 'Emma_Dominguez'}}, {'city': {'type': 'uri', 'value': 'http://example.org/Paris'}, 'person': {'type': 'uri', 'value': 'http://example.org/Pierre'}}, {'city': {'type': 'uri', 'value': 'http://example.org/Rome'}, 'person': {'type': 'uri', 'value': 'http://example.org/Carlo'}, 'name': {'type': 'literal', 'value': 'Carlo_Conte'}}, {'city': {'type': 'uri', 'value': 'http://example.org/Munich'}, 'person': {'type': 'uri', 'value': 'http://example.org/Max'}, 'name': {'type': 'literal', 'value': 'Max_Meier'}}]}}\n",
      "['Madrid', 'Paris', 'Rome', 'Munich']\n"
     ]
    }
   ],
   "source": [
    "# Erstellen Sie hier Ihr Python Programm\n",
    "\n",
    "from SPARQLWrapper import SPARQLWrapper, JSON\n",
    "\n",
    "# optional display person and person name\n",
    "# http://localhost:7200/sparql\n",
    "query = \"\"\"\n",
    "PREFIX foaf: <http://xmlns.com/foaf/0.1/>\n",
    "PREFIX ex: <http://example.org/>\n",
    "SELECT ?person ?name ?city WHERE { \n",
    "\t?person a foaf:Person ;\n",
    "        ex:address ?address .\n",
    "    ?address ex:city ?city .\n",
    "    OPTIONAL {?person foaf:name ?name} .\n",
    "}\n",
    "\"\"\".strip()\n",
    "\n",
    "sparql = SPARQLWrapper(\"http://localhost:7200/repositories/persons\")\n",
    "sparql.setQuery(query)\n",
    "sparql.setReturnFormat(JSON)\n",
    "\n",
    "result = sparql.queryAndConvert()\n",
    "\n",
    "print(result)\n",
    "\n",
    "results = result.get(\"results\", {}).get(\"bindings\", [])\n",
    "# list cities values\n",
    "results = map(lambda result: result.get(\"city\", {}), results)\n",
    "results = map(lambda result: result.get(\"value\", \"\"), results)\n",
    "# remove namespace\n",
    "results = map(lambda result: result.rsplit(\"/\", 1), results)\n",
    "results = map(lambda result: result[-1], results)\n",
    "\n",
    "cities = list(results)\n",
    "print(cities)"
   ]
  },
  {
   "cell_type": "markdown",
   "metadata": {},
   "source": [
    "#### Aufgabe 2"
   ]
  },
  {
   "cell_type": "markdown",
   "metadata": {},
   "source": [
    "Nun sollen für jede Stadt die für WikiData benötigten Q-Codes ermittelt werden. Schreiben Sie ein Python-Programm, dass den Q-Code aller aufgeführten Städte ermittelt und ausgibt."
   ]
  },
  {
   "cell_type": "code",
   "execution_count": 2,
   "metadata": {},
   "outputs": [
    {
     "name": "stderr",
     "output_type": "stream",
     "text": [
      "Skipped '/mnt/c/Users/thug/Documents/Share/2. Trimester/Kognitive Systeme/Übung/Labs/Github/CognitiveSystems/Lab1/user-config.py': writeable by others.\n",
      "family and mylang are not set.\n",
      "Defaulting to family='wikipedia' and mylang='test'.\n"
     ]
    },
    {
     "name": "stdout",
     "output_type": "stream",
     "text": [
      "{'Madrid': ItemPage('Q2807'), 'Paris': ItemPage('Q90'), 'Rome': ItemPage('Q220'), 'Munich': ItemPage('Q1726')}\n"
     ]
    }
   ],
   "source": [
    "# Erstellen Sie hier Ihr Python Programm\n",
    "\n",
    "# TODO: copy \"user-config.py\" to pywikibot root directory\n",
    "import pywikibot\n",
    "\n",
    "city2q = dict()\n",
    "\n",
    "site = pywikibot.Site(\"en\", \"wikipedia\")\n",
    "\n",
    "for city in cities:\n",
    "    \n",
    "    page = pywikibot.Page(site, city)\n",
    "    item = pywikibot.ItemPage.fromPage(page)\n",
    "    \n",
    "    city2q[city] = item\n",
    "    \n",
    "print(city2q)"
   ]
  },
  {
   "cell_type": "markdown",
   "metadata": {},
   "source": [
    "#### Aufgabe 3"
   ]
  },
  {
   "cell_type": "markdown",
   "metadata": {},
   "source": [
    "Nun sollen für jede Stadt die Stadtteile, ihre Fläche und deren Einwohnerzahl ermittelt werden. Finden Sie geeignete Properties, mit denen Sie Zugriff auf diese Informationen bekommen. Formulieren und testen Sie eine dafür geeignete SPARQL-Abfrage. Erstellen Sie anschließend in nachfolgender Zelle ein Python Programm, dass für jede Stadt deren Stadtteile, Fläche und Einwohnerzahl ausgibt.  "
   ]
  },
  {
   "cell_type": "code",
   "execution_count": 4,
   "metadata": {},
   "outputs": [
    {
     "name": "stdout",
     "output_type": "stream",
     "text": [
      "% Search for suburbs in Madrid: %\n",
      "http://www.wikidata.org/entity/Q4781\t\t0.77323\t\t16922\n",
      "http://www.wikidata.org/entity/Q589403\t\t35.2667113289003\t\t74567\n",
      "http://www.wikidata.org/entity/Q656196\t\t237.838370174431\t\t238756\n",
      "http://www.wikidata.org/entity/Q794954\t\t25.4272030154025\t\t233808\n",
      "http://www.wikidata.org/entity/Q919536\t\t20.1875858768973\t\t149003\n",
      "http://www.wikidata.org/entity/Q953368\t\t7.77771673918264\t\t134791\n",
      "http://www.wikidata.org/entity/Q1001991\t\t14.048315736132\t\t243998\n",
      "http://www.wikidata.org/entity/Q1763370\t\t4.67918508335805\t\t137401\n",
      "http://www.wikidata.org/entity/Q1763376\t\t5.2282\t\t131928\n",
      "http://www.wikidata.org/entity/Q1763694\t\t11.4256779595942\t\t212529\n",
      "http://www.wikidata.org/entity/Q1928529\t\t27.4197624962822\t\t180462\n",
      "http://www.wikidata.org/entity/Q1947988\t\t51.4672382522256\t\t107649\n",
      "http://www.wikidata.org/entity/Q2000929\t\t6.46217591535296\t\t151965\n",
      "http://www.wikidata.org/entity/Q2002296\t\t5.46621118978522\t\t118516\n",
      "http://www.wikidata.org/entity/Q2003054\t\t14.9686058743263\t\t227595\n",
      "http://www.wikidata.org/entity/Q2017682\t\t46.5311356860402\t\t116903\n",
      "http://www.wikidata.org/entity/Q2076109\t\t634.42\t\t94197\n",
      "\n",
      "% Search for suburbs in Paris: %\n",
      "http://www.wikidata.org/entity/Q161741\t\t1.83\t\t16266\n",
      "http://www.wikidata.org/entity/Q163948\t\t2.89\t\t90372\n",
      "http://www.wikidata.org/entity/Q169293\t\t3.67\t\t146643\n",
      "http://www.wikidata.org/entity/Q171689\t\t6.38\t\t140296\n",
      "http://www.wikidata.org/entity/Q175129\t\t7.15\t\t182099\n",
      "http://www.wikidata.org/entity/Q187153\t\t5.62\t\t135964\n",
      "http://www.wikidata.org/entity/Q191066\t\t8.5\t\t233392\n",
      "http://www.wikidata.org/entity/Q194420\t\t7.91\t\t166361\n",
      "http://www.wikidata.org/entity/Q197297\t\t5.67\t\t167288\n",
      "http://www.wikidata.org/entity/Q200126\t\t6.01\t\t195233\n",
      "http://www.wikidata.org/entity/Q204622\t\t6.79\t\t187015\n",
      "http://www.wikidata.org/entity/Q209549\t\t0.99\t\t20900\n",
      "http://www.wikidata.org/entity/Q210720\t\t5.98\t\t195814\n",
      "http://www.wikidata.org/entity/Q223140\t\t1.17\t\t34115\n",
      "http://www.wikidata.org/entity/Q230127\t\t1.6\t\t28088\n",
      "http://www.wikidata.org/entity/Q238723\t\t2.54\t\t58850\n",
      "http://www.wikidata.org/entity/Q245546\t\t2.15\t\t41100\n",
      "http://www.wikidata.org/entity/Q259463\t\t4.09\t\t51367\n",
      "http://www.wikidata.org/entity/Q270230\t\t3.88\t\t36808\n",
      "http://www.wikidata.org/entity/Q275118\t\t2.18\t\t59555\n",
      "\n",
      "% Search for suburbs in Rome: %\n",
      "http://www.wikidata.org/entity/Q550592\t\t20.09\t\t167330\n",
      "http://www.wikidata.org/entity/Q16003470\t\t98.03\t\t205019\n",
      "http://www.wikidata.org/entity/Q16495467\t\t47.15\t\t130784\n",
      "\n",
      "% Search for suburbs in Munich: %\n",
      "http://www.wikidata.org/entity/Q166011\t\t2.0702\t\t30282\n",
      "http://www.wikidata.org/entity/Q224635\t\t7.8\t\t59175\n",
      "http://www.wikidata.org/entity/Q251311\t\t13.42\t\t76647\n",
      "http://www.wikidata.org/entity/Q252058\t\t4.24\t\t61699\n",
      "http://www.wikidata.org/entity/Q252173\t\t28.9378\t\t61764\n",
      "http://www.wikidata.org/entity/Q252295\t\t15.38\t\t34263\n",
      "http://www.wikidata.org/entity/Q252679\t\t25.6722\t\t77626\n",
      "http://www.wikidata.org/entity/Q252910\t\t4.34\t\t69407\n",
      "http://www.wikidata.org/entity/Q254178\t\t5.72\t\t54784\n",
      "http://www.wikidata.org/entity/Q255291\t\t19.88\t\t114708\n",
      "http://www.wikidata.org/entity/Q255702\t\t16.5\t\t74645\n",
      "http://www.wikidata.org/entity/Q256012\t\t4.3\t\t53443\n",
      "http://www.wikidata.org/entity/Q259879\t\t5.28\t\t56335\n",
      "http://www.wikidata.org/entity/Q262879\t\t3.9387\t\t41230\n",
      "http://www.wikidata.org/entity/Q263163\t\t11.1\t\t54045\n",
      "http://www.wikidata.org/entity/Q265068\t\t8.06\t\t54050\n",
      "http://www.wikidata.org/entity/Q266932\t\t12.93\t\t99821\n",
      "http://www.wikidata.org/entity/Q267364\t\t9.22\t\t50567\n",
      "http://www.wikidata.org/entity/Q329707\t\t23.69\t\t87164\n",
      "http://www.wikidata.org/entity/Q458136\t\t17.77\t\t96199\n",
      "http://www.wikidata.org/entity/Q533054\t\t6.3146\t\t45655\n",
      "http://www.wikidata.org/entity/Q533095\t\t3.42\t\t46468\n",
      "http://www.wikidata.org/entity/Q537044\t\t4.4014\t\t54915\n",
      "http://www.wikidata.org/entity/Q538037\t\t22.45\t\t72182\n",
      "http://www.wikidata.org/entity/Q971198\t\t3.14\t\t21454\n",
      "\n"
     ]
    }
   ],
   "source": [
    "# Erstellen Sie hier Ihr Python Programm\n",
    "\n",
    "import requests\n",
    "\n",
    "url = \"https://query.wikidata.org/sparql\"\n",
    "\n",
    "for city, q in city2q.items():\n",
    "    \n",
    "    print(\"% Search for suburbs in {}: %\".format(city))\n",
    "\n",
    "    # https://query.wikidata.org/\n",
    "    # search property numbers by hovering hyperlinks\n",
    "    # https://www.wikidata.org/wiki/Q2807\n",
    "    query = \"\"\"\n",
    "    SELECT * WHERE {{\n",
    "        wd:{} wdt:P150 ?suburbs .\n",
    "        ?suburbs wdt:P2046 ?area .  \n",
    "        ?suburbs wdt:P1082 ?population .           \n",
    "        SERVICE wikibase:label {{\n",
    "            bd:serviceParam wikibase:language \"en\" . \n",
    "        }}    \n",
    "    }}\n",
    "    \"\"\".format(q.title())\n",
    "\n",
    "    response = requests.get(url, params={\"format\": \"json\", \"query\": query})   \n",
    "    # if status code != 200\n",
    "    response.raise_for_status()    \n",
    "    # get response json\n",
    "    response = response.json()\n",
    "    \n",
    "    # get response results - bindings\n",
    "    results = response.get(\"results\", {}).get(\"bindings\", [])\n",
    "    # filter suburbs, area, population\n",
    "    results = map(lambda result: (\n",
    "        result.get(\"suburbs\", {}).get(\"value\", \"\"),\n",
    "        result.get(\"area\", {}).get(\"value\", \"\"),\n",
    "        result.get(\"population\", {}).get(\"value\", \"\"),\n",
    "    ), results)\n",
    "\n",
    "    for suburbs, area, population in results:\n",
    "        print(\"{}\\t\\t{}\\t\\t{}\".format(suburbs, area, population))\n",
    "        \n",
    "    print()"
   ]
  },
  {
   "cell_type": "markdown",
   "metadata": {},
   "source": [
    "#### Aufgabe 4"
   ]
  },
  {
   "cell_type": "markdown",
   "metadata": {},
   "source": [
    "Welcher Stadtteil hat die meisten Einwohner? Erstellen Sie ein Python Programm, dass den Namen des Stadtteils, seine Einwohnerzahl und die dazugehörige Stadt ausgibt."
   ]
  },
  {
   "cell_type": "code",
   "execution_count": null,
   "metadata": {},
   "outputs": [],
   "source": [
    "# Erstellen Sie hier Ihr Python Programm"
   ]
  }
 ],
 "metadata": {
  "kernelspec": {
   "display_name": "Python 3",
   "language": "python",
   "name": "python3"
  },
  "language_info": {
   "codemirror_mode": {
    "name": "ipython",
    "version": 3
   },
   "file_extension": ".py",
   "mimetype": "text/x-python",
   "name": "python",
   "nbconvert_exporter": "python",
   "pygments_lexer": "ipython3",
   "version": "3.7.9"
  }
 },
 "nbformat": 4,
 "nbformat_minor": 4
}
