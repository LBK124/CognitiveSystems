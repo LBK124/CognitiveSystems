{
 "cells": [
  {
   "cell_type": "markdown",
   "metadata": {},
   "source": [
    "# Kognitive Systeme - Lab 1"
   ]
  },
  {
   "cell_type": "markdown",
   "metadata": {},
   "source": [
    "Abgabetermin: Das fertig erstellte, dokumentierte und lauffähige Notebook schicken Sie bitte bis\n",
    "Sonntag, 1.11.2020 (23:59:59 MEZ) an norbert.oswald@unibw.de"
   ]
  },
  {
   "cell_type": "markdown",
   "metadata": {},
   "source": [
    "Das Ziel dieser Laborübung besteht darin, Informationen aus RDF Daten unterschiedlicher Quellen durch entsprechende SPARQL-Queries automatisch zu extrahieren. Initial ist die RDF-Datei `persons.n3`, die Personen, deren Alter, Interessen, Reiseziele sowie deren Adressen beschreibt, gegeben. Diese Datei soll zunächst in einen lokalen Triple-Store integriert werden. Als Triple-Store können Sie z.B. [GraphDB](https://graphdb.ontotext.com/) verwenden. Anschließend sollen Sie ein Python-Programm schreiben, dass die folgende Frage beantwortet: Welche der Städte, die in der RDF-Datei vorkommen, hat den bevölkerungsmäßig größten Vorort? Da nicht alle Informationen in der initialen RDF-Datei vorliegen, muss auf externe Informationsquellen zugegriffen werden. Als externe Datenquelle verwenden Sie für dieses Lab [WikiData](http://query.wikidata.org/sparql). Da stets verschiedene Namensräume verwendet werden, ist zu recherchieren, welche konkreten Properties für die gesuchten Informationen konkret benötigt werden. Falls Sie sich für WikiData entschieden haben gilt zu beachten: die Q-Werte für WikiData müssen für alle in der RDF-Datei beschriebenen Städte automatisch ermittelt werden! "
   ]
  },
  {
   "cell_type": "markdown",
   "metadata": {},
   "source": [
    "Falls Sie GraphDB verwenden wollen, laden Sie von der Webseite (https://graphdb.ontotext.com/) die freie Version herunter (diese erfordert Java 8) und installieren diese. Starten Sie dann den TripleStore durch Ausführen des Skripts `graphdb` im Verzeichnis `bin` der GraphDB Installation. Sie gelangen dann im Browser unter `localhost:7200` auf ihren lokalen GraphDB TripleStore. Erstellen und Aktivieren Sie zunächst ein Repository. Importieren Sie dann die Datei `persons.n3` mit den RDF-Daten in das erstellte Repository. Testen Sie das erfolgreiche Einladen der Datei, indem Sie in GraphDB die Option SPARQL auswählen, dort die nachfolgenden Zeilen hinein kopieren und und ausführen. "
   ]
  },
  {
   "cell_type": "raw",
   "metadata": {},
   "source": [
    "PREFIX foaf: <http://xmlns.com/foaf/0.1/>\n",
    "select ?person where { \n",
    "\t?person a foaf:Person .\n",
    "} limit 100 "
   ]
  },
  {
   "cell_type": "markdown",
   "metadata": {},
   "source": [
    "Das Importieren war erfolgreich, wenn Sie als Ausgabe alle Personen aus der RDF-Datei erhalten. "
   ]
  },
  {
   "cell_type": "markdown",
   "metadata": {},
   "source": [
    "#### Aufgabe 1"
   ]
  },
  {
   "cell_type": "markdown",
   "metadata": {},
   "source": [
    "Formulieren Sie eine SPARQL-Abfrage, mit der Sie den Wohnort jeder Person aus der RDF-Datei extrahieren können. Zum Testen der Query können Sie den GraphDB TripleStore verwenden. Erstellen Sie anschließend ein Python Programm, das automatisch die SPARQL-Abfrage ausführt und das Ergebnis der Abfrage ausgibt."
   ]
  },
  {
   "cell_type": "code",
   "execution_count": 2,
   "metadata": {},
   "outputs": [
    {
     "name": "stdout",
     "output_type": "stream",
     "text": [
      "{'head': {'vars': ['person', 'name', 'city']}, 'results': {'bindings': [{'city': {'type': 'uri', 'value': 'http://example.org/Madrid'}, 'person': {'type': 'uri', 'value': 'http://example.org/Emma'}, 'name': {'type': 'literal', 'value': 'Emma_Dominguez'}}, {'city': {'type': 'uri', 'value': 'http://example.org/Paris'}, 'person': {'type': 'uri', 'value': 'http://example.org/Pierre'}}, {'city': {'type': 'uri', 'value': 'http://example.org/Rome'}, 'person': {'type': 'uri', 'value': 'http://example.org/Carlo'}, 'name': {'type': 'literal', 'value': 'Carlo_Conte'}}, {'city': {'type': 'uri', 'value': 'http://example.org/Munich'}, 'person': {'type': 'uri', 'value': 'http://example.org/Max'}, 'name': {'type': 'literal', 'value': 'Max_Meier'}}]}}\n",
      "['Madrid', 'Paris', 'Rome', 'Munich']\n"
     ]
    }
   ],
   "source": [
    "# Erstellen Sie hier Ihr Python Programm\n",
    "\n",
    "from SPARQLWrapper import SPARQLWrapper, JSON\n",
    "\n",
    "# optional display person and person name\n",
    "# http://localhost:7200/sparql\n",
    "query = \"\"\"\n",
    "PREFIX foaf: <http://xmlns.com/foaf/0.1/>\n",
    "PREFIX ex: <http://example.org/>\n",
    "SELECT ?person ?name ?city WHERE { \n",
    "\t?person a foaf:Person ;\n",
    "        ex:address ?address .\n",
    "    ?address ex:city ?city .\n",
    "    OPTIONAL {?person foaf:name ?name} .\n",
    "}\n",
    "\"\"\".strip()\n",
    "\n",
    "sparql = SPARQLWrapper(\"http://localhost:7200/repositories/persons\")\n",
    "sparql.setQuery(query)\n",
    "sparql.setReturnFormat(JSON)\n",
    "\n",
    "result = sparql.queryAndConvert()\n",
    "\n",
    "print(result)\n",
    "\n",
    "results = result.get(\"results\", {}).get(\"bindings\", [])\n",
    "# list cities values\n",
    "results = map(lambda result: result.get(\"city\", {}), results)\n",
    "results = map(lambda result: result.get(\"value\", \"\"), results)\n",
    "# remove namespace\n",
    "results = map(lambda result: result.rsplit(\"/\", 1), results)\n",
    "results = map(lambda result: result[-1], results)\n",
    "\n",
    "cities = list(results)\n",
    "print(cities)"
   ]
  },
  {
   "cell_type": "markdown",
   "metadata": {},
   "source": [
    "#### Aufgabe 2"
   ]
  },
  {
   "cell_type": "markdown",
   "metadata": {},
   "source": [
    "Nun sollen für jede Stadt die für WikiData benötigten Q-Codes ermittelt werden. Schreiben Sie ein Python-Programm, dass den Q-Code aller aufgeführten Städte ermittelt und ausgibt."
   ]
  },
  {
   "cell_type": "code",
   "execution_count": 3,
   "metadata": {},
   "outputs": [
    {
     "name": "stderr",
     "output_type": "stream",
     "text": [
      "Skipped '/mnt/c/Users/thug/Documents/Share/2. Trimester/Kognitive Systeme/Übung/Labs/Github/CognitiveSystems/Lab1/user-config.py': writeable by others.\n",
      "family and mylang are not set.\n",
      "Defaulting to family='wikipedia' and mylang='test'.\n"
     ]
    },
    {
     "name": "stdout",
     "output_type": "stream",
     "text": [
      "{'Madrid': ItemPage('Q2807'), 'Paris': ItemPage('Q90'), 'Rome': ItemPage('Q220'), 'Munich': ItemPage('Q1726')}\n"
     ]
    }
   ],
   "source": [
    "# Erstellen Sie hier Ihr Python Programm\n",
    "\n",
    "# TODO: copy \"user-config.py\" to pywikibot root directory\n",
    "import pywikibot\n",
    "\n",
    "city2q = dict()\n",
    "\n",
    "site = pywikibot.Site(\"en\", \"wikipedia\")\n",
    "\n",
    "for city in cities:\n",
    "    \n",
    "    page = pywikibot.Page(site, city)\n",
    "    item = pywikibot.ItemPage.fromPage(page)\n",
    "    \n",
    "    city2q[city] = item\n",
    "    \n",
    "print(city2q)"
   ]
  },
  {
   "cell_type": "markdown",
   "metadata": {},
   "source": [
    "#### Aufgabe 3"
   ]
  },
  {
   "cell_type": "markdown",
   "metadata": {},
   "source": [
    "Nun sollen für jede Stadt die Stadtteile, ihre Fläche und deren Einwohnerzahl ermittelt werden. Finden Sie geeignete Properties, mit denen Sie Zugriff auf diese Informationen bekommen. Formulieren und testen Sie eine dafür geeignete SPARQL-Abfrage. Erstellen Sie anschließend in nachfolgender Zelle ein Python Programm, dass für jede Stadt deren Stadtteile, Fläche und Einwohnerzahl ausgibt.  "
   ]
  },
  {
   "cell_type": "code",
   "execution_count": null,
   "metadata": {},
   "outputs": [
    {
     "name": "stdout",
     "output_type": "stream",
     "text": [
      "% Search for suburbs in Madrid: %\n",
      "Castellana                                              0.77323              16922     \n",
      "Vicálvaro                                               35.2667113289003     74567     \n",
      "Fuencarral-El Pardo                                     237.838370174431     238756    \n",
      "Latina                                                  25.4272030154025     233808    \n",
      "Villaverde                                              20.1875858768973     149003    \n",
      "Usera                                                   7.77771673918264     134791    \n",
      "Carabanchel                                             14.048315736132      243998    \n",
      "Chamberí                                                4.67918508335805     137401    \n",
      "Centro                                                  5.2282               131928    \n",
      "Ciudad Lineal                                           11.4256779595942     212529    \n",
      "Hortaleza                                               27.4197624962822     180462    \n",
      "Villa de Vallecas                                       51.4672382522256     107649    \n",
      "Arganzuela                                              6.46217591535296     151965    \n",
      "Retiro                                                  5.46621118978522     118516    \n",
      "Puente de Vallecas                                      14.9686058743263     227595    \n",
      "Moncloa-Aravaca                                         46.5311356860402     116903    \n",
      "Moratalaz                                               634.42               94197     \n",
      "---\n",
      "% Search for suburbs in Paris: %\n",
      "1st arrondissement of Paris                             1.83                 16266     \n",
      "10th arrondissement of Paris                            2.89                 90372     \n",
      "11th arrondissement of Paris                            3.67                 146643    \n",
      "12th arrondissement of Paris                            6.38                 140296    \n",
      "13th arrondissement of Paris                            7.15                 182099    \n",
      "14th arrondissement of Paris                            5.62                 135964    \n",
      "15th arrondissement of Paris                            8.5                  233392    \n",
      "16th arrondissement of Paris                            7.91                 166361    \n",
      "17th arrondissement of Paris                            5.67                 167288    \n",
      "18th arrondissement of Paris                            6.01                 195233    \n",
      "19th arrondissement of Paris                            6.79                 187015    \n",
      "2nd arrondissement of Paris                             0.99                 20900     \n",
      "20th arrondissement of Paris                            5.98                 195814    \n",
      "3rd arrondissement of Paris                             1.17                 34115     \n",
      "4th arrondissement of Paris                             1.6                  28088     \n",
      "5th arrondissement of Paris                             2.54                 58850     \n",
      "6th arrondissement of Paris                             2.15                 41100     \n",
      "7th arrondissement of Paris                             4.09                 51367     \n",
      "8th arrondissement of Paris                             3.88                 36808     \n",
      "9th arrondissement of Paris                             2.18                 59555     \n",
      "---\n",
      "% Search for suburbs in Rome: %\n"
     ]
    }
   ],
   "source": [
    "# Erstellen Sie hier Ihr Python Programm\n",
    "\n",
    "import requests\n",
    "\n",
    "url = \"https://query.wikidata.org/sparql\"\n",
    "\n",
    "for city, q in city2q.items():\n",
    "    \n",
    "    print(\"% Search for suburbs in {}: %\".format(city))\n",
    "\n",
    "    # https://query.wikidata.org/\n",
    "    # search property numbers by hovering hyperlinks\n",
    "    # https://www.wikidata.org/wiki/Q2807\n",
    "    query = \"\"\"\n",
    "    SELECT * WHERE {{\n",
    "        wd:{} wdt:P150 ?suburbs .        \n",
    "        ?suburbs rdfs:label ?name ;\n",
    "            wdt:P2046 ?area ;  \n",
    "            wdt:P1082 ?population .            \n",
    "        FILTER(lang(?name)=\"en\")  \n",
    "        SERVICE wikibase:label {{\n",
    "            bd:serviceParam wikibase:language \"en\" . \n",
    "        }}\n",
    "    }}\n",
    "    \"\"\".format(q.title())\n",
    "\n",
    "    response = requests.get(url, params={\"format\": \"json\", \"query\": query})   \n",
    "    # if status code != 200\n",
    "    response.raise_for_status()    \n",
    "    # get response json\n",
    "    response = response.json()\n",
    "    \n",
    "    # get response results - bindings\n",
    "    results = response.get(\"results\", {}).get(\"bindings\", [])\n",
    "    # filter suburbs, area, population\n",
    "    results = map(lambda result: (\n",
    "        result.get(\"suburbs\", {}).get(\"value\", \"\"),\n",
    "        result.get(\"name\", {}).get(\"value\", \"\"),\n",
    "        result.get(\"area\", {}).get(\"value\", \"\"),\n",
    "        result.get(\"population\", {}).get(\"value\", \"\")\n",
    "    ), results)\n",
    "\n",
    "    for suburbs, name, area, population in results:\n",
    "        print(\"{:55} {:20} {:10}\".format(name, area, population))\n",
    "        \n",
    "    print(\"---\")"
   ]
  },
  {
   "cell_type": "markdown",
   "metadata": {},
   "source": [
    "#### Aufgabe 4"
   ]
  },
  {
   "cell_type": "markdown",
   "metadata": {},
   "source": [
    "Welcher Stadtteil hat die meisten Einwohner? Erstellen Sie ein Python Programm, dass den Namen des Stadtteils, seine Einwohnerzahl und die dazugehörige Stadt ausgibt."
   ]
  },
  {
   "cell_type": "code",
   "execution_count": null,
   "metadata": {},
   "outputs": [],
   "source": [
    "# Erstellen Sie hier Ihr Python Programm"
   ]
  }
 ],
 "metadata": {
  "kernelspec": {
   "display_name": "Python 3",
   "language": "python",
   "name": "python3"
  },
  "language_info": {
   "codemirror_mode": {
    "name": "ipython",
    "version": 3
   },
   "file_extension": ".py",
   "mimetype": "text/x-python",
   "name": "python",
   "nbconvert_exporter": "python",
   "pygments_lexer": "ipython3",
   "version": "3.7.9"
  }
 },
 "nbformat": 4,
 "nbformat_minor": 4
}
