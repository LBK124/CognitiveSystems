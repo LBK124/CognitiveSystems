{
 "cells": [
  {
   "cell_type": "markdown",
   "metadata": {},
   "source": [
    "# Kognitive Systeme - Lab 1"
   ]
  },
  {
   "cell_type": "markdown",
   "metadata": {},
   "source": [
    "Abgabetermin: Das fertig erstellte, dokumentierte und lauffähige Notebook schicken Sie bitte bis\n",
    "Sonntag, 1.11.2020 (23:59:59 MEZ) an norbert.oswald@unibw.de"
   ]
  },
  {
   "cell_type": "markdown",
   "metadata": {},
   "source": [
    "Das Ziel dieser Laborübung besteht darin, Informationen aus RDF Daten unterschiedlicher Quellen durch entsprechende SPARQL-Queries automatisch zu extrahieren. Initial ist die RDF-Datei `persons.n3`, die Personen, deren Alter, Interessen, Reiseziele sowie deren Adressen beschreibt, gegeben. Diese Datei soll zunächst in einen lokalen Triple-Store integriert werden. Als Triple-Store können Sie z.B. [GraphDB](https://graphdb.ontotext.com/) verwenden. Anschließend sollen Sie ein Python-Programm schreiben, dass die folgende Frage beantwortet: Welche der Städte, die in der RDF-Datei vorkommen, hat den bevölkerungsmäßig größten Vorort? Da nicht alle Informationen in der initialen RDF-Datei vorliegen, muss auf externe Informationsquellen zugegriffen werden. Als externe Datenquelle verwenden Sie für dieses Lab [WikiData](http://query.wikidata.org/sparql). Da stets verschiedene Namensräume verwendet werden, ist zu recherchieren, welche konkreten Properties für die gesuchten Informationen konkret benötigt werden. Falls Sie sich für WikiData entschieden haben gilt zu beachten: die Q-Werte für WikiData müssen für alle in der RDF-Datei beschriebenen Städte automatisch ermittelt werden! "
   ]
  },
  {
   "cell_type": "markdown",
   "metadata": {},
   "source": [
    "Falls Sie GraphDB verwenden wollen, laden Sie von der Webseite (https://graphdb.ontotext.com/) die freie Version herunter (diese erfordert Java 8) und installieren diese. Starten Sie dann den TripleStore durch Ausführen des Skripts `graphdb` im Verzeichnis `bin` der GraphDB Installation. Sie gelangen dann im Browser unter `localhost:7200` auf ihren lokalen GraphDB TripleStore. Erstellen und Aktivieren Sie zunächst ein Repository. Importieren Sie dann die Datei `persons.n3` mit den RDF-Daten in das erstellte Repository. Testen Sie das erfolgreiche Einladen der Datei, indem Sie in GraphDB die Option SPARQL auswählen, dort die nachfolgenden Zeilen hinein kopieren und und ausführen. "
   ]
  },
  {
   "cell_type": "raw",
   "metadata": {},
   "source": [
    "PREFIX foaf: <http://xmlns.com/foaf/0.1/>\n",
    "select ?person where { \n",
    "\t?person a foaf:Person .\n",
    "} limit 100 "
   ]
  },
  {
   "cell_type": "markdown",
   "metadata": {},
   "source": [
    "Das Importieren war erfolgreich, wenn Sie als Ausgabe alle Personen aus der RDF-Datei erhalten. "
   ]
  },
  {
   "cell_type": "markdown",
   "metadata": {},
   "source": [
    "#### Aufgabe 1"
   ]
  },
  {
   "cell_type": "markdown",
   "metadata": {},
   "source": [
    "Formulieren Sie eine SPARQL-Abfrage, mit der Sie den Wohnort jeder Person aus der RDF-Datei extrahieren können. Zum Testen der Query können Sie den GraphDB TripleStore verwenden. Erstellen Sie anschließend ein Python Programm, das automatisch die SPARQL-Abfrage ausführt und das Ergebnis der Abfrage ausgibt."
   ]
  },
  {
   "cell_type": "code",
   "execution_count": 1,
   "metadata": {},
   "outputs": [
    {
     "name": "stdout",
     "output_type": "stream",
     "text": [
      "{'head': {'vars': ['person', 'name', 'city']}, 'results': {'bindings': [{'city': {'type': 'uri', 'value': 'http://example.org/Madrid'}, 'person': {'type': 'uri', 'value': 'http://example.org/Emma'}, 'name': {'type': 'literal', 'value': 'Emma_Dominguez'}}, {'city': {'type': 'uri', 'value': 'http://example.org/Paris'}, 'person': {'type': 'uri', 'value': 'http://example.org/Pierre'}}, {'city': {'type': 'uri', 'value': 'http://example.org/Rome'}, 'person': {'type': 'uri', 'value': 'http://example.org/Carlo'}, 'name': {'type': 'literal', 'value': 'Carlo_Conte'}}, {'city': {'type': 'uri', 'value': 'http://example.org/Munich'}, 'person': {'type': 'uri', 'value': 'http://example.org/Max'}, 'name': {'type': 'literal', 'value': 'Max_Meier'}}]}}\n",
      "\n",
      "['Madrid', 'Paris', 'Rome', 'Munich']\n"
     ]
    }
   ],
   "source": [
    "# Erstellen Sie hier Ihr Python Programm\n",
    "\n",
    "from SPARQLWrapper import SPARQLWrapper, JSON\n",
    "\n",
    "# optional display person and person name\n",
    "# http://localhost:7200/sparql\n",
    "query = \"\"\"\n",
    "PREFIX foaf: <http://xmlns.com/foaf/0.1/>\n",
    "PREFIX ex: <http://example.org/>\n",
    "SELECT ?person ?name ?city WHERE { \n",
    "\t?person a foaf:Person ;\n",
    "        ex:address ?address .\n",
    "    ?address ex:city ?city .\n",
    "    OPTIONAL {?person foaf:name ?name} .\n",
    "}\n",
    "\"\"\".strip()\n",
    "\n",
    "sparql = SPARQLWrapper(\"http://localhost:7200/repositories/persons\")\n",
    "sparql.setQuery(query)\n",
    "sparql.setReturnFormat(JSON)\n",
    "\n",
    "result = sparql.queryAndConvert()\n",
    "\n",
    "print(result)\n",
    "print()\n",
    "\n",
    "## parsing the converted output from json\n",
    "results = result.get(\"results\", {}).get(\"bindings\", [])\n",
    "# list cities values\n",
    "results = map(lambda result: result.get(\"city\", {}), results)\n",
    "results = map(lambda result: result.get(\"value\", \"\"), results)\n",
    "# remove namespace\n",
    "results = map(lambda result: result.rsplit(\"/\", 1), results)\n",
    "results = map(lambda result: result[-1], results)\n",
    "\n",
    "cities = list(results)\n",
    "print(cities)"
   ]
  },
  {
   "cell_type": "markdown",
   "metadata": {},
   "source": [
    "#### Aufgabe 2"
   ]
  },
  {
   "cell_type": "markdown",
   "metadata": {},
   "source": [
    "Nun sollen für jede Stadt die für WikiData benötigten Q-Codes ermittelt werden. Schreiben Sie ein Python-Programm, dass den Q-Code aller aufgeführten Städte ermittelt und ausgibt."
   ]
  },
  {
   "cell_type": "code",
   "execution_count": 2,
   "metadata": {},
   "outputs": [
    {
     "name": "stdout",
     "output_type": "stream",
     "text": [
      "{'Madrid': 'Q2807', 'Paris': 'Q90', 'Rome': 'Q220', 'Munich': 'Q1726'}\n"
     ]
    }
   ],
   "source": [
    "# Erstellen Sie hier Ihr Python Programm\n",
    "\n",
    "# TODO: copy \"user-config.py\" to pywikibot root directory\n",
    "import pywikibot\n",
    "\n",
    "city2q = dict()\n",
    "\n",
    "site = pywikibot.Site(\"en\", \"wikipedia\")\n",
    "\n",
    "for city in cities:\n",
    "    \n",
    "    page = pywikibot.Page(site, city)\n",
    "    item = pywikibot.ItemPage.fromPage(page)\n",
    "    \n",
    "    city2q[city] = item.title()\n",
    "    \n",
    "print(city2q)"
   ]
  },
  {
   "cell_type": "markdown",
   "metadata": {},
   "source": [
    "#### Aufgabe 3"
   ]
  },
  {
   "cell_type": "markdown",
   "metadata": {},
   "source": [
    "Nun sollen für jede Stadt die Stadtteile, ihre Fläche und deren Einwohnerzahl ermittelt werden. Finden Sie geeignete Properties, mit denen Sie Zugriff auf diese Informationen bekommen. Formulieren und testen Sie eine dafür geeignete SPARQL-Abfrage. Erstellen Sie anschließend in nachfolgender Zelle ein Python Programm, dass für jede Stadt deren Stadtteile, Fläche und Einwohnerzahl ausgibt.  "
   ]
  },
  {
   "cell_type": "code",
   "execution_count": 3,
   "metadata": {},
   "outputs": [
    {
     "name": "stdout",
     "output_type": "stream",
     "text": [
      "Name                                                              Fläche in km²   Bevölkerung\n",
      "\n",
      "\u001b[1mStadtteile von Madrid\u001b[0m\n",
      "  Arganzuela                                                            6.462      151,965\n",
      "  Carabanchel                                                          14.048      243,998\n",
      "  Castellana                                                            0.773       16,922\n",
      "  Centro                                                                5.228      131,928\n",
      "  Chamberí                                                              4.679      137,401\n",
      "  Ciudad Lineal                                                        11.426      212,529\n",
      "  Fuencarral-El Pardo                                                 237.838      238,756\n",
      "  Hortaleza                                                            27.420      180,462\n",
      "  Latina                                                               25.427      233,808\n",
      "  Moncloa-Aravaca                                                      46.531      116,903\n",
      "  Moratalaz                                                           634.420       94,197\n",
      "  Puente de Vallecas                                                   14.969      227,595\n",
      "  Retiro                                                                5.466      118,516\n",
      "  Usera                                                                 7.778      134,791\n",
      "  Vicálvaro                                                            35.267       74,567\n",
      "  Villa de Vallecas                                                    51.467      107,649\n",
      "  Villaverde                                                           20.188      149,003\n",
      "\n",
      "\u001b[1mStadtteile von Paris\u001b[0m\n",
      "  10th arrondissement of Paris                                          2.890       90,372\n",
      "  11th arrondissement of Paris                                          3.670      146,643\n",
      "  12th arrondissement of Paris                                          6.380      140,296\n",
      "  13th arrondissement of Paris                                          7.150      182,099\n",
      "  14th arrondissement of Paris                                          5.620      135,964\n",
      "  15th arrondissement of Paris                                          8.500      233,392\n",
      "  16th arrondissement of Paris                                          7.910      166,361\n",
      "  17th arrondissement of Paris                                          5.670      167,288\n",
      "  18th arrondissement of Paris                                          6.010      195,233\n",
      "  19th arrondissement of Paris                                          6.790      187,015\n",
      "  1st arrondissement of Paris                                           1.830       16,266\n",
      "  20th arrondissement of Paris                                          5.980      195,814\n",
      "  2nd arrondissement of Paris                                           0.990       20,900\n",
      "  3rd arrondissement of Paris                                           1.170       34,115\n",
      "  4th arrondissement of Paris                                           1.600       28,088\n",
      "  5th arrondissement of Paris                                           2.540       58,850\n",
      "  6th arrondissement of Paris                                           2.150       41,100\n",
      "  7th arrondissement of Paris                                           4.090       51,367\n",
      "  8th arrondissement of Paris                                           3.880       36,808\n",
      "  9th arrondissement of Paris                                           2.180       59,555\n",
      "  municipality of Paris                                                 0.000            0\n",
      "\n",
      "\u001b[1mStadtteile von Rome\u001b[0m\n",
      "  Municipio I                                                          20.090      167,330\n",
      "  Municipio II                                                          0.000            0\n",
      "  Municipio III                                                        98.030      205,019\n",
      "  Municipio IV                                                          0.000            0\n",
      "  Municipio IX                                                          0.000            0\n",
      "  Municipio V                                                           0.000            0\n",
      "  Municipio VI                                                          0.000            0\n",
      "  Municipio VII                                                         0.000            0\n",
      "  Municipio VIII                                                       47.150      130,784\n",
      "  Municipio X                                                           0.000            0\n",
      "  Municipio XI                                                          0.000            0\n",
      "  Municipio XII                                                         0.000            0\n",
      "  Municipio XIII                                                        0.000            0\n",
      "  Municipio XIV                                                         0.000            0\n",
      "  Municipio XV                                                          0.000            0\n",
      "\n",
      "\u001b[1mStadtteile von Munich\u001b[0m\n",
      "  Allach-Untermenzing                                                  15.380       34,263\n",
      "  Altstadt-Lehel                                                        3.140       21,454\n",
      "  Au-Haidhausen                                                         4.240       61,699\n",
      "  Aubing-Lochhausen-Langwied                                            3.420       46,468\n",
      "  Berg am Laim                                                          6.315       45,655\n",
      "  Bogenhausen                                                          23.690       87,164\n",
      "  Feldmoching-Hasenbergl                                               28.938       61,764\n",
      "  Hadern                                                                9.220       50,567\n",
      "  Laim                                                                  5.280       56,335\n",
      "  Ludwigsvorstadt-Isarvorstadt                                          4.401       54,915\n",
      "  Maxvorstadt                                                           4.300       53,443\n",
      "  Milbertshofen-Am Hart                                                13.420       76,647\n",
      "  Moosach                                                              11.100       54,045\n",
      "  Neuhausen-Nymphenburg                                                12.930       99,821\n",
      "  Obergiesing-Fasangarten                                               5.720       54,784\n",
      "  Pasing-Obermenzing                                                   16.500       74,645\n",
      "  Ramersdorf-Perlach                                                   19.880      114,708\n",
      "  Schwabing-Freimann                                                   25.672       77,626\n",
      "  Schwabing-West                                                        4.340       69,407\n",
      "  Schwanthalerhöhe                                                      2.070       30,282\n",
      "  Sendling                                                              3.939       41,230\n",
      "  Sendling-Westpark                                                     7.800       59,175\n",
      "  Thalkirchen-Obersendling-Forstenried-Fürstenried-Solln               17.770       96,199\n",
      "  Trudering-Riem                                                       22.450       72,182\n",
      "  Untergiesing-Harlaching                                               8.060       54,050\n",
      "\n"
     ]
    }
   ],
   "source": [
    "# Erstellen Sie hier Ihr Python Programm\n",
    "\n",
    "import requests\n",
    "\n",
    "url = \"https://query.wikidata.org/sparql\"\n",
    "formatstring = \"{:56} {:20.3f} {:12,}\"\n",
    "print(\"{:65} {:15} {:10}\".format(\"Name\", \"Fläche in km²\", \"Bevölkerung\"))\n",
    "print()\n",
    "all_suburbs = list()\n",
    "for city, q in city2q.items():\n",
    "    print('\\033[1m' + \"Stadtteile von \" + city + '\\033[0m')\n",
    "    # print(\"% Search for suburbs in {}: %\".format(city))\n",
    "\n",
    "    # https://query.wikidata.org/\n",
    "    # search property numbers by hovering hyperlinks\n",
    "    # https://www.wikidata.org/wiki/Q2807\n",
    "    query = \"\"\"\n",
    "    SELECT * WHERE {{\n",
    "        wd:{} wdt:P150 ?suburbs .  \n",
    "        ?suburbs rdfs:label ?name .\n",
    "        OPTIONAL{{\n",
    "            ?suburbs wdt:P2046 ?area ;  \n",
    "                     wdt:P1082 ?population .\n",
    "        }}\n",
    "        FILTER(lang(?name)=\"en\")  \n",
    "        SERVICE wikibase:label {{\n",
    "            bd:serviceParam wikibase:language \"en\" . \n",
    "        }}\n",
    "    }}\n",
    "    \"\"\".format(q)\n",
    "\n",
    "    response = requests.get(url, params={\"format\": \"json\", \"query\": query})   \n",
    "    # if status code != 200\n",
    "    response.raise_for_status()    \n",
    "    # get response json\n",
    "    response = response.json()\n",
    "    \n",
    "    # get response results - bindings\n",
    "    results = response.get(\"results\", {}).get(\"bindings\", [])\n",
    "    # filter suburbs, area, population\n",
    "    results = list(map(lambda result: (city,\n",
    "        result.get(\"suburbs\", {}).get(\"value\", \"\"),\n",
    "        result.get(\"name\", {}).get(\"value\", \"\"),\n",
    "        float(result.get(\"area\", {}).get(\"value\", \"0\")),\n",
    "        int(result.get(\"population\", {}).get(\"value\", \"0\"))\n",
    "    ), results))\n",
    "    results.sort(key=lambda tup: tup[2])\n",
    "    all_suburbs.append(results)\n",
    "    \n",
    "    \n",
    "    for city, suburbs, name, area, population in results:\n",
    "        print(formatstring.format(\"  \" + name, area, population))\n",
    "    print()    \n",
    " "
   ]
  },
  {
   "cell_type": "markdown",
   "metadata": {},
   "source": [
    "#### Aufgabe 4"
   ]
  },
  {
   "cell_type": "markdown",
   "metadata": {},
   "source": [
    "Welcher Stadtteil hat die meisten Einwohner? Erstellen Sie ein Python Programm, dass den Namen des Stadtteils, seine Einwohnerzahl und die dazugehörige Stadt ausgibt."
   ]
  },
  {
   "cell_type": "code",
   "execution_count": 4,
   "metadata": {
    "scrolled": true
   },
   "outputs": [],
   "source": [
    "# Erstellen Sie hier Ihr Python Programm\n"
   ]
  },
  {
   "cell_type": "code",
   "execution_count": null,
   "metadata": {},
   "outputs": [],
   "source": []
  }
 ],
 "metadata": {
  "kernelspec": {
   "display_name": "Python 3",
   "language": "python",
   "name": "python3"
  },
  "language_info": {
   "codemirror_mode": {
    "name": "ipython",
    "version": 3
   },
   "file_extension": ".py",
   "mimetype": "text/x-python",
   "name": "python",
   "nbconvert_exporter": "python",
   "pygments_lexer": "ipython3",
   "version": "3.8.5"
  }
 },
 "nbformat": 4,
 "nbformat_minor": 4
}
